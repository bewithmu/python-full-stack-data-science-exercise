{
 "cells": [
  {
   "cell_type": "markdown",
   "id": "0b6b07a9-63b5-41cc-8e87-84ad9d9d6fb6",
   "metadata": {},
   "source": [
    "# Wellcome to NIT"
   ]
  },
  {
   "cell_type": "markdown",
   "id": "931a541c-efd9-4db0-8d5c-74bf8888f413",
   "metadata": {},
   "source": [
    "# Numbers"
   ]
  },
  {
   "cell_type": "code",
   "execution_count": 1,
   "id": "5fe3a9db-b089-4693-86fe-9a28919635ae",
   "metadata": {},
   "outputs": [
    {
     "data": {
      "text/plain": [
       "15"
      ]
     },
     "execution_count": 1,
     "metadata": {},
     "output_type": "execute_result"
    }
   ],
   "source": [
    "15"
   ]
  },
  {
   "cell_type": "code",
   "execution_count": 2,
   "id": "1f0f12cd-678b-405c-87e2-1809a418a066",
   "metadata": {},
   "outputs": [
    {
     "data": {
      "text/plain": [
       "5"
      ]
     },
     "execution_count": 2,
     "metadata": {},
     "output_type": "execute_result"
    }
   ],
   "source": [
    "5"
   ]
  },
  {
   "cell_type": "code",
   "execution_count": 3,
   "id": "f11521f2-a9c5-4ef0-8cec-156de835922d",
   "metadata": {},
   "outputs": [
    {
     "data": {
      "text/plain": [
       "9"
      ]
     },
     "execution_count": 3,
     "metadata": {},
     "output_type": "execute_result"
    }
   ],
   "source": [
    "4+5  // addition"
   ]
  },
  {
   "cell_type": "code",
   "execution_count": 4,
   "id": "51f8c756-049e-4b80-9713-1886177e258d",
   "metadata": {},
   "outputs": [
    {
     "data": {
      "text/plain": [
       "3510"
      ]
     },
     "execution_count": 4,
     "metadata": {},
     "output_type": "execute_result"
    }
   ],
   "source": [
    "65*54  // multiplication"
   ]
  },
  {
   "cell_type": "code",
   "execution_count": 5,
   "id": "cd73e28c-72c6-48b4-a63c-fe585d956f38",
   "metadata": {},
   "outputs": [
    {
     "data": {
      "text/plain": [
       "-9"
      ]
     },
     "execution_count": 5,
     "metadata": {},
     "output_type": "execute_result"
    }
   ],
   "source": [
    "45-54  //substraction"
   ]
  },
  {
   "cell_type": "code",
   "execution_count": 6,
   "id": "17d95944-8ac8-4cd3-9965-9bacd176b4cd",
   "metadata": {},
   "outputs": [
    {
     "data": {
      "text/plain": [
       "8.125"
      ]
     },
     "execution_count": 6,
     "metadata": {},
     "output_type": "execute_result"
    }
   ],
   "source": [
    "65/8   // float division"
   ]
  },
  {
   "cell_type": "code",
   "execution_count": 7,
   "id": "adf81af6-6b43-4eea-9d4a-1c6ec1504ac4",
   "metadata": {},
   "outputs": [
    {
     "data": {
      "text/plain": [
       "8"
      ]
     },
     "execution_count": 7,
     "metadata": {},
     "output_type": "execute_result"
    }
   ],
   "source": [
    "65//8  // int dividion"
   ]
  },
  {
   "cell_type": "markdown",
   "id": "a359994d-dbe2-41de-beb8-4641478b5e2e",
   "metadata": {},
   "source": [
    "# string (text)"
   ]
  },
  {
   "cell_type": "code",
   "execution_count": 8,
   "id": "7b6822a4-edda-4b7b-8f65-23a6a5ba57ed",
   "metadata": {},
   "outputs": [
    {
     "ename": "SyntaxError",
     "evalue": "invalid syntax (1715129858.py, line 1)",
     "output_type": "error",
     "traceback": [
      "\u001b[1;36m  Cell \u001b[1;32mIn[8], line 1\u001b[1;36m\u001b[0m\n\u001b[1;33m    wellcome to fsds class\u001b[0m\n\u001b[1;37m             ^\u001b[0m\n\u001b[1;31mSyntaxError\u001b[0m\u001b[1;31m:\u001b[0m invalid syntax\n"
     ]
    }
   ],
   "source": [
    "wellcome to fsds class"
   ]
  },
  {
   "cell_type": "code",
   "execution_count": 9,
   "id": "51f0416c-2e74-4787-b9db-458d19034c44",
   "metadata": {},
   "outputs": [
    {
     "data": {
      "text/plain": [
       "'wellcome to fsds class'"
      ]
     },
     "execution_count": 9,
     "metadata": {},
     "output_type": "execute_result"
    }
   ],
   "source": [
    "'wellcome to fsds class'"
   ]
  },
  {
   "cell_type": "code",
   "execution_count": 10,
   "id": "96e7aa9c-df6c-4ab1-b2e2-57eecf45190a",
   "metadata": {},
   "outputs": [
    {
     "data": {
      "text/plain": [
       "'wellcome to fsds class'"
      ]
     },
     "execution_count": 10,
     "metadata": {},
     "output_type": "execute_result"
    }
   ],
   "source": [
    "\"wellcome to fsds class\""
   ]
  },
  {
   "cell_type": "code",
   "execution_count": 11,
   "id": "6262cf81-bbe5-4313-bb66-a4689d926a14",
   "metadata": {},
   "outputs": [
    {
     "ename": "SyntaxError",
     "evalue": "unterminated string literal (detected at line 1) (1400717170.py, line 1)",
     "output_type": "error",
     "traceback": [
      "\u001b[1;36m  Cell \u001b[1;32mIn[11], line 1\u001b[1;36m\u001b[0m\n\u001b[1;33m    \"wellcome to\u001b[0m\n\u001b[1;37m    ^\u001b[0m\n\u001b[1;31mSyntaxError\u001b[0m\u001b[1;31m:\u001b[0m unterminated string literal (detected at line 1)\n"
     ]
    }
   ],
   "source": [
    "\"wellcome to\n",
    "fsds class\""
   ]
  },
  {
   "cell_type": "code",
   "execution_count": 12,
   "id": "24b4a6f0-8edc-4f34-9ec7-9631930b1b21",
   "metadata": {},
   "outputs": [
    {
     "ename": "SyntaxError",
     "evalue": "unterminated string literal (detected at line 1) (4135730379.py, line 1)",
     "output_type": "error",
     "traceback": [
      "\u001b[1;36m  Cell \u001b[1;32mIn[12], line 1\u001b[1;36m\u001b[0m\n\u001b[1;33m    \"wellcome to\u001b[0m\n\u001b[1;37m    ^\u001b[0m\n\u001b[1;31mSyntaxError\u001b[0m\u001b[1;31m:\u001b[0m unterminated string literal (detected at line 1)\n"
     ]
    }
   ],
   "source": [
    "\"wellcome to\n",
    "fsds class'''"
   ]
  },
  {
   "cell_type": "code",
   "execution_count": 13,
   "id": "ac28f27e-3b21-4939-9902-5b48a7b362ce",
   "metadata": {},
   "outputs": [
    {
     "ename": "_IncompleteInputError",
     "evalue": "incomplete input (1421852280.py, line 1)",
     "output_type": "error",
     "traceback": [
      "\u001b[1;36m  Cell \u001b[1;32mIn[13], line 1\u001b[1;36m\u001b[0m\n\u001b[1;33m    '''wellcome to fsds class\"\u001b[0m\n\u001b[1;37m    ^\u001b[0m\n\u001b[1;31m_IncompleteInputError\u001b[0m\u001b[1;31m:\u001b[0m incomplete input\n"
     ]
    }
   ],
   "source": [
    "'''wellcome to fsds class\""
   ]
  },
  {
   "cell_type": "code",
   "execution_count": 14,
   "id": "71d692db-3710-4584-9dd1-ed365003928b",
   "metadata": {},
   "outputs": [
    {
     "data": {
      "text/plain": [
       "'wellcome to \\nfsds class'"
      ]
     },
     "execution_count": 14,
     "metadata": {},
     "output_type": "execute_result"
    }
   ],
   "source": [
    "'''wellcome to \n",
    "fsds class'''"
   ]
  },
  {
   "cell_type": "markdown",
   "id": "5b29cc68-b392-4290-8ef5-d99346b1f144",
   "metadata": {},
   "source": [
    "# Python variable creation "
   ]
  },
  {
   "cell_type": "markdown",
   "id": "fe867604-9ee6-45c8-9b70-2bc732e5291c",
   "metadata": {},
   "source": [
    "- variable name = value"
   ]
  },
  {
   "cell_type": "code",
   "execution_count": 2,
   "id": "0f5f86cf-a317-4ffc-973e-04dbd5689d97",
   "metadata": {},
   "outputs": [],
   "source": [
    "v=9"
   ]
  },
  {
   "cell_type": "code",
   "execution_count": 6,
   "id": "21c6775e-7a53-4d64-8b6a-1b7ab6dde21e",
   "metadata": {},
   "outputs": [
    {
     "data": {
      "text/plain": [
       "9"
      ]
     },
     "execution_count": 6,
     "metadata": {},
     "output_type": "execute_result"
    }
   ],
   "source": [
    "v"
   ]
  },
  {
   "cell_type": "code",
   "execution_count": 7,
   "id": "56f360c3-8fec-4316-bc9f-0f178813b535",
   "metadata": {},
   "outputs": [
    {
     "data": {
      "text/plain": [
       "140704938439848"
      ]
     },
     "execution_count": 7,
     "metadata": {},
     "output_type": "execute_result"
    }
   ],
   "source": [
    "id(v)"
   ]
  },
  {
   "cell_type": "code",
   "execution_count": 8,
   "id": "e360dbb5-ef0d-4363-af03-d1588100f4e7",
   "metadata": {},
   "outputs": [
    {
     "ename": "SyntaxError",
     "evalue": "cannot assign to literal here. Maybe you meant '==' instead of '='? (257603433.py, line 1)",
     "output_type": "error",
     "traceback": [
      "\u001b[1;36m  Cell \u001b[1;32mIn[8], line 1\u001b[1;36m\u001b[0m\n\u001b[1;33m    9 = v\u001b[0m\n\u001b[1;37m    ^\u001b[0m\n\u001b[1;31mSyntaxError\u001b[0m\u001b[1;31m:\u001b[0m cannot assign to literal here. Maybe you meant '==' instead of '='?\n"
     ]
    }
   ],
   "source": [
    "9 = v"
   ]
  },
  {
   "cell_type": "markdown",
   "id": "c75147bb-1594-4f5b-8861-32838befae38",
   "metadata": {},
   "source": [
    "- rules to define python variable"
   ]
  },
  {
   "cell_type": "markdown",
   "id": "68cb7454-e79d-499e-83ce-8e4c930deeec",
   "metadata": {},
   "source": [
    "- 1) variable name never starts withthe numbers"
   ]
  },
  {
   "cell_type": "code",
   "execution_count": 9,
   "id": "69af84c9-0b13-4ca6-8587-4d314940811b",
   "metadata": {},
   "outputs": [
    {
     "ename": "SyntaxError",
     "evalue": "invalid decimal literal (1097294793.py, line 1)",
     "output_type": "error",
     "traceback": [
      "\u001b[1;36m  Cell \u001b[1;32mIn[9], line 1\u001b[1;36m\u001b[0m\n\u001b[1;33m    9v=8\u001b[0m\n\u001b[1;37m    ^\u001b[0m\n\u001b[1;31mSyntaxError\u001b[0m\u001b[1;31m:\u001b[0m invalid decimal literal\n"
     ]
    }
   ],
   "source": [
    "9v=8"
   ]
  },
  {
   "cell_type": "code",
   "execution_count": 10,
   "id": "bbc87e9b-746d-4762-aa2e-a0e5a1108f30",
   "metadata": {},
   "outputs": [
    {
     "data": {
      "text/plain": [
       "8"
      ]
     },
     "execution_count": 10,
     "metadata": {},
     "output_type": "execute_result"
    }
   ],
   "source": [
    "v9 = 8\n",
    "v9"
   ]
  },
  {
   "cell_type": "code",
   "execution_count": 11,
   "id": "43d1e460-f014-4090-8c53-4212a0b5fe3c",
   "metadata": {},
   "outputs": [],
   "source": [
    "var=20"
   ]
  },
  {
   "cell_type": "code",
   "execution_count": 12,
   "id": "8df6fb23-e0f5-4ac7-98f9-1f6aa59154f4",
   "metadata": {},
   "outputs": [
    {
     "ename": "NameError",
     "evalue": "name 'VAR' is not defined",
     "output_type": "error",
     "traceback": [
      "\u001b[1;31m---------------------------------------------------------------------------\u001b[0m",
      "\u001b[1;31mNameError\u001b[0m                                 Traceback (most recent call last)",
      "Cell \u001b[1;32mIn[12], line 1\u001b[0m\n\u001b[1;32m----> 1\u001b[0m VAR\n",
      "\u001b[1;31mNameError\u001b[0m: name 'VAR' is not defined"
     ]
    }
   ],
   "source": [
    "VAR"
   ]
  },
  {
   "cell_type": "markdown",
   "id": "51276ecc-b68d-415a-8416-a90fa6db5995",
   "metadata": {},
   "source": [
    "- 2.variables are case sensitive"
   ]
  },
  {
   "cell_type": "code",
   "execution_count": 13,
   "id": "75b8f832-00a7-4a7a-9c3e-f4e6a4ae7dc2",
   "metadata": {},
   "outputs": [
    {
     "data": {
      "text/plain": [
       "20"
      ]
     },
     "execution_count": 13,
     "metadata": {},
     "output_type": "execute_result"
    }
   ],
   "source": [
    "var"
   ]
  },
  {
   "cell_type": "code",
   "execution_count": 14,
   "id": "8c02ecc7-5827-46c9-85e5-c5de9a6f5b44",
   "metadata": {},
   "outputs": [
    {
     "ename": "NameError",
     "evalue": "name 'nareshit' is not defined",
     "output_type": "error",
     "traceback": [
      "\u001b[1;31m---------------------------------------------------------------------------\u001b[0m",
      "\u001b[1;31mNameError\u001b[0m                                 Traceback (most recent call last)",
      "Cell \u001b[1;32mIn[14], line 2\u001b[0m\n\u001b[0;32m      1\u001b[0m nit\u001b[38;5;241m=\u001b[39m\u001b[38;5;241m7\u001b[39m\n\u001b[1;32m----> 2\u001b[0m nareshit\n",
      "\u001b[1;31mNameError\u001b[0m: name 'nareshit' is not defined"
     ]
    }
   ],
   "source": [
    "nit=7\n",
    "nareshit"
   ]
  },
  {
   "cell_type": "markdown",
   "id": "089de733-d470-4722-a9ba-fe97429c667a",
   "metadata": {},
   "source": [
    "- 3.CALL THE VARIIABLE WITH THE SAME NAME AND IT IS DEFINED "
   ]
  },
  {
   "cell_type": "code",
   "execution_count": 16,
   "id": "c7c44d0a-6571-4670-a697-7375ea9fb43f",
   "metadata": {},
   "outputs": [
    {
     "ename": "TypeError",
     "evalue": "cannot unpack non-iterable int object",
     "output_type": "error",
     "traceback": [
      "\u001b[1;31m---------------------------------------------------------------------------\u001b[0m",
      "\u001b[1;31mTypeError\u001b[0m                                 Traceback (most recent call last)",
      "Cell \u001b[1;32mIn[16], line 1\u001b[0m\n\u001b[1;32m----> 1\u001b[0m pushpa1 , pushpa2 \u001b[38;5;241m=\u001b[39m \u001b[38;5;241m200\u001b[39m\n",
      "\u001b[1;31mTypeError\u001b[0m: cannot unpack non-iterable int object"
     ]
    }
   ],
   "source": [
    "pushpa1 , pushpa2 = 200"
   ]
  },
  {
   "cell_type": "code",
   "execution_count": 19,
   "id": "a3821baf-7a07-4819-895c-ed14a4911228",
   "metadata": {},
   "outputs": [],
   "source": [
    "pushpa1,pushpa2=2000,1800"
   ]
  },
  {
   "cell_type": "code",
   "execution_count": 21,
   "id": "b059cc47-9539-43a0-b700-ec9a8adfaa34",
   "metadata": {},
   "outputs": [
    {
     "data": {
      "text/plain": [
       "1800"
      ]
     },
     "execution_count": 21,
     "metadata": {},
     "output_type": "execute_result"
    }
   ],
   "source": [
    "pushpa1\n",
    "pushpa2"
   ]
  },
  {
   "cell_type": "code",
   "execution_count": 22,
   "id": "ef695ccd-477d-4aa2-80f7-9124506a22ec",
   "metadata": {},
   "outputs": [
    {
     "name": "stdout",
     "output_type": "stream",
     "text": [
      "2000\n",
      "1800\n"
     ]
    }
   ],
   "source": [
    "print(pushpa1)\n",
    "print(pushpa2)"
   ]
  },
  {
   "cell_type": "code",
   "execution_count": 23,
   "id": "20c1910b-0da2-44bc-b156-bf28b6910384",
   "metadata": {},
   "outputs": [
    {
     "ename": "SyntaxError",
     "evalue": "invalid syntax (1577245690.py, line 1)",
     "output_type": "error",
     "traceback": [
      "\u001b[1;36m  Cell \u001b[1;32mIn[23], line 1\u001b[1;36m\u001b[0m\n\u001b[1;33m    nit$=7\u001b[0m\n\u001b[1;37m       ^\u001b[0m\n\u001b[1;31mSyntaxError\u001b[0m\u001b[1;31m:\u001b[0m invalid syntax\n"
     ]
    }
   ],
   "source": [
    "nit$=7"
   ]
  },
  {
   "cell_type": "markdown",
   "id": "df5b7345-fb40-47b8-acef-b2de4b99fe4d",
   "metadata": {},
   "source": [
    "- 4.special characters will not be able to define as variable"
   ]
  },
  {
   "cell_type": "markdown",
   "id": "118d3780-6b09-490b-aadb-a2b442f9acb3",
   "metadata": {},
   "source": [
    "- 5.keywords or reserved words cannot be defined as variable"
   ]
  },
  {
   "cell_type": "markdown",
   "id": "63fbee37-d2ff-46ac-b955-daa7c8509a8c",
   "metadata": {},
   "source": [
    "- python ha 35 reserved words "
   ]
  },
  {
   "cell_type": "code",
   "execution_count": 24,
   "id": "ac76d616-d8f0-47b3-b190-fb14276e6e17",
   "metadata": {},
   "outputs": [
    {
     "ename": "SyntaxError",
     "evalue": "invalid syntax (1127695694.py, line 1)",
     "output_type": "error",
     "traceback": [
      "\u001b[1;36m  Cell \u001b[1;32mIn[24], line 1\u001b[1;36m\u001b[0m\n\u001b[1;33m    if=43\u001b[0m\n\u001b[1;37m      ^\u001b[0m\n\u001b[1;31mSyntaxError\u001b[0m\u001b[1;31m:\u001b[0m invalid syntax\n"
     ]
    }
   ],
   "source": [
    "if=43"
   ]
  },
  {
   "cell_type": "code",
   "execution_count": 25,
   "id": "4257a44d-3ab0-463c-84c6-6ac2cf470ed0",
   "metadata": {},
   "outputs": [
    {
     "data": {
      "text/plain": [
       "['False',\n",
       " 'None',\n",
       " 'True',\n",
       " 'and',\n",
       " 'as',\n",
       " 'assert',\n",
       " 'async',\n",
       " 'await',\n",
       " 'break',\n",
       " 'class',\n",
       " 'continue',\n",
       " 'def',\n",
       " 'del',\n",
       " 'elif',\n",
       " 'else',\n",
       " 'except',\n",
       " 'finally',\n",
       " 'for',\n",
       " 'from',\n",
       " 'global',\n",
       " 'if',\n",
       " 'import',\n",
       " 'in',\n",
       " 'is',\n",
       " 'lambda',\n",
       " 'nonlocal',\n",
       " 'not',\n",
       " 'or',\n",
       " 'pass',\n",
       " 'raise',\n",
       " 'return',\n",
       " 'try',\n",
       " 'while',\n",
       " 'with',\n",
       " 'yield']"
      ]
     },
     "execution_count": 25,
     "metadata": {},
     "output_type": "execute_result"
    }
   ],
   "source": [
    "import keyword\n",
    "keyword.kwlist"
   ]
  },
  {
   "cell_type": "markdown",
   "id": "6554f86a-48a4-46a7-bbe6-a3527da320fc",
   "metadata": {},
   "source": [
    "- there are the all 35 keywords of python "
   ]
  },
  {
   "cell_type": "code",
   "execution_count": null,
   "id": "0029b880-e5b6-4716-b6f0-444023d3bc46",
   "metadata": {},
   "outputs": [],
   "source": []
  }
 ],
 "metadata": {
  "kernelspec": {
   "display_name": "Python 3 (ipykernel)",
   "language": "python",
   "name": "python3"
  },
  "language_info": {
   "codemirror_mode": {
    "name": "ipython",
    "version": 3
   },
   "file_extension": ".py",
   "mimetype": "text/x-python",
   "name": "python",
   "nbconvert_exporter": "python",
   "pygments_lexer": "ipython3",
   "version": "3.13.5"
  }
 },
 "nbformat": 4,
 "nbformat_minor": 5
}
